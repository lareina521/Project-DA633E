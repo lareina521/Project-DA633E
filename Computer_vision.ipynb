{
  "nbformat": 4,
  "nbformat_minor": 0,
  "metadata": {
    "colab": {
      "provenance": [],
      "mount_file_id": "1gQnNOSKy_HagyUG--zb-BUqvgLJeX-zX",
      "authorship_tag": "ABX9TyMgK6+5d69pP7EV1P7TPEGj",
      "include_colab_link": true
    },
    "kernelspec": {
      "name": "python3",
      "display_name": "Python 3"
    },
    "language_info": {
      "name": "python"
    }
  },
  "cells": [
    {
      "cell_type": "markdown",
      "metadata": {
        "id": "view-in-github",
        "colab_type": "text"
      },
      "source": [
        "<a href=\"https://colab.research.google.com/github/lareina521/Project-DA633E/blob/main/Computer_vision.ipynb\" target=\"_parent\"><img src=\"https://colab.research.google.com/assets/colab-badge.svg\" alt=\"Open In Colab\"/></a>"
      ]
    },
    {
      "cell_type": "code",
      "execution_count": 2,
      "metadata": {
        "id": "ajZ49is-07Td"
      },
      "outputs": [],
      "source": [
        "import torch\n",
        "import torch.nn as nn\n",
        "import torch.nn.functional as F\n",
        "import torch.optim as optim\n",
        "from torchvision import datasets, transforms\n",
        "import matplotlib.pyplot as plt\n",
        "import numpy as np"
      ]
    },
    {
      "cell_type": "code",
      "source": [
        "device = torch.device(\"cuda:0\" if torch.cuda.is_available() else \"cpu\")"
      ],
      "metadata": {
        "id": "t1chOqp71GCl"
      },
      "execution_count": 3,
      "outputs": []
    },
    {
      "cell_type": "code",
      "source": [
        "from google.colab import drive\n",
        "drive.mount('/content/drive')"
      ],
      "metadata": {
        "colab": {
          "base_uri": "https://localhost:8080/"
        },
        "id": "o4hOsh2o1RRX",
        "outputId": "3a35e250-393b-4696-9ded-b3af19b9ca19"
      },
      "execution_count": 4,
      "outputs": [
        {
          "output_type": "stream",
          "name": "stdout",
          "text": [
            "Drive already mounted at /content/drive; to attempt to forcibly remount, call drive.mount(\"/content/drive\", force_remount=True).\n"
          ]
        }
      ]
    },
    {
      "cell_type": "code",
      "source": [
        "input_size  = 28*28   # images are 28x28 pixels\n",
        "output_size = 10      # there are 10 classes (0 to 9)\n",
        "root_dir = '/content/drive/MyDrive/work/data'\n",
        "\n",
        "train_loader = torch.utils.data.DataLoader(\n",
        "    datasets.MNIST(root_dir, train=True, download=True,\n",
        "                   transform=transforms.Compose([\n",
        "                       transforms.ToTensor(),\n",
        "                       transforms.Normalize((0.1307,), (0.3081,))\n",
        "                   ])),\n",
        "    batch_size=64, shuffle=True)\n",
        "\n",
        "test_loader = torch.utils.data.DataLoader(\n",
        "    datasets.MNIST(root_dir, train=False, download=True, transform=transforms.Compose([\n",
        "                       transforms.ToTensor(),\n",
        "                       transforms.Normalize((0.1307,), (0.3081,))\n",
        "                   ])),\n",
        "    batch_size=1000, shuffle=True)"
      ],
      "metadata": {
        "id": "xlH24V1Z1bOt"
      },
      "execution_count": 5,
      "outputs": []
    },
    {
      "cell_type": "code",
      "source": [
        "plt.figure(figsize=(16, 6))\n",
        "for i in range(10):\n",
        "    plt.subplot(2, 5, i + 1)\n",
        "    image, _ = train_loader.dataset[i]\n",
        "    plt.imshow(image.squeeze().numpy())\n",
        "    plt.axis('off');"
      ],
      "metadata": {
        "colab": {
          "base_uri": "https://localhost:8080/",
          "height": 499
        },
        "id": "MjJalyy72Xmj",
        "outputId": "a470de86-9ba2-443c-be02-7a17d77516d6"
      },
      "execution_count": 6,
      "outputs": [
        {
          "output_type": "display_data",
          "data": {
            "text/plain": [
              "<Figure size 1600x600 with 10 Axes>"
            ],
            "image/png": "[encoded data removed]"
          },
          "metadata": {}
        }
      ]
    },
    {
      "cell_type": "code",
      "source": [
        "class CNN(nn.Module):\n",
        "    def __init__(self, input_size, n_feature, output_size):\n",
        "        super(CNN, self).__init__()\n",
        "        self.n_feature = n_feature\n",
        "        self.conv1 = nn.Conv2d(in_channels=1, out_channels=n_feature, kernel_size=5)\n",
        "        self.conv2 = nn.Conv2d(n_feature, n_feature, kernel_size=5) # 6 channels and kernel_size 5\n",
        "        \n",
        "        self.flatten = nn.Flatten()\n",
        "        self.fc1 = nn.Linear(n_feature*4*4, 50)\n",
        "        self.fc2 = nn.Linear(50, 10)\n",
        "        \n",
        "    def forward(self, x, verbose=False): # [batch_size, channel, width, height] - [64, 1, 28, 28]\n",
        "        # First CONV\n",
        "        x = self.conv1(x)\n",
        "        x = F.relu(x)\n",
        "        x = F.max_pool2d(x, kernel_size=2) # downdsample the data by half\n",
        "        \n",
        "        # Second CONV\n",
        "        x = self.conv2(x)\n",
        "        x = F.relu(x)\n",
        "        x = F.max_pool2d(x, kernel_size=2) # downdsample the data by half\n",
        "        # [64, 6, 4, 4]\n",
        "        \n",
        "#         x = x.view(-1, self.n_feature*4*4)\n",
        "        x = self.flatten(x) # [64, n_feature * 4 * 4]\n",
        "        x = self.fc1(x)\n",
        "        x = F.relu(x)\n",
        "        x = self.fc2(x)\n",
        "        x = F.log_softmax(x, dim=1)\n",
        "        return x"
      ],
      "metadata": {
        "id": "v3FHhDIP2aM1"
      },
      "execution_count": 7,
      "outputs": []
    },
    {
      "cell_type": "code",
      "source": [
        "tensor = torch.rand([1, 1, 28, 28])"
      ],
      "metadata": {
        "id": "iYkdMaNZF-rD"
      },
      "execution_count": 8,
      "outputs": []
    },
    {
      "cell_type": "code",
      "source": [
        "conv_1 = nn.Conv2d(in_channels=1, out_channels=6, kernel_size=5)\n",
        "relu_1 = F.relu\n",
        "max_pool_1 = nn.MaxPool2d(kernel_size=2)\n",
        "\n",
        "result = conv_1(tensor)\n",
        "print(\"after conv1: \", result.shape) \n",
        "#Tensor is reshaped from [1, 1, 28, 28] to [1, 6, 24, 24]\n",
        "# 6 are the number of out_channels specified\n",
        "# and it reduces w and h to 24, 24 because of the kernel_size (kernel_size - 1) and stride (stride = 1)\n",
        "\n",
        "result = relu_1(result)\n",
        "print(\"after relu1: \", result.shape)\n",
        "\n",
        "result = max_pool_1(result)\n",
        "print(\"after max_pooling_1: \", result.shape) "
      ],
      "metadata": {
        "colab": {
          "base_uri": "https://localhost:8080/"
        },
        "id": "nLp211j_GC1F",
        "outputId": "2dd9698b-62a5-4295-938e-203725292b45"
      },
      "execution_count": 9,
      "outputs": [
        {
          "output_type": "stream",
          "name": "stdout",
          "text": [
            "after conv1:  torch.Size([1, 6, 24, 24])\n",
            "after relu1:  torch.Size([1, 6, 24, 24])\n",
            "after max_pooling_1:  torch.Size([1, 6, 12, 12])\n"
          ]
        }
      ]
    },
    {
      "cell_type": "code",
      "source": [
        "conv_2 = nn.Conv2d(in_channels=6, out_channels=6, kernel_size=5)\n",
        "relu_2 = F.relu\n",
        "max_pool_2 = nn.MaxPool2d(kernel_size=2)\n",
        "\n",
        "result = conv_2(result)\n",
        "print(\"after conv2: \", result.shape)\n",
        "\n",
        "result = relu_2(result)\n",
        "print(\"after relu2: \", result.shape)\n",
        "\n",
        "result = max_pool_2(result)\n",
        "print(\"after max_pooling_2: \", result.shape)\n",
        "print(\"shape is [1, 6*4*4]: \", 6*4*4)"
      ],
      "metadata": {
        "colab": {
          "base_uri": "https://localhost:8080/"
        },
        "id": "KFg1e3sLGds5",
        "outputId": "1d86cfb1-7033-44ca-8a4a-b38278ec1354"
      },
      "execution_count": 10,
      "outputs": [
        {
          "output_type": "stream",
          "name": "stdout",
          "text": [
            "after conv2:  torch.Size([1, 6, 8, 8])\n",
            "after relu2:  torch.Size([1, 6, 8, 8])\n",
            "after max_pooling_2:  torch.Size([1, 6, 4, 4])\n",
            "shape is [1, 6*4*4]:  96\n"
          ]
        }
      ]
    },
    {
      "cell_type": "code",
      "source": [
        "flatten_operation = nn.Flatten()\n",
        "\n",
        "result_flattened = flatten_operation(result)\n",
        "print(\"after flattening: \", result_flattened.shape)\n",
        "\n",
        "result_with_view = result.view(-1, 6*4*4)\n",
        "print(\"after view: \", result_with_view.shape)"
      ],
      "metadata": {
        "colab": {
          "base_uri": "https://localhost:8080/"
        },
        "id": "jDc-ClLeG2TU",
        "outputId": "01076d37-37ff-4987-ea80-fb7125fd82bb"
      },
      "execution_count": 11,
      "outputs": [
        {
          "output_type": "stream",
          "name": "stdout",
          "text": [
            "after flattening:  torch.Size([1, 96])\n",
            "after view:  torch.Size([1, 96])\n"
          ]
        }
      ]
    },
    {
      "cell_type": "code",
      "source": [
        "def train(epoch, model, perm=torch.arange(0, 784).long()):\n",
        "    model.train()\n",
        "    for batch_idx, (data, target) in enumerate(train_loader):\n",
        "        # send to device\n",
        "        data, target = data.to(device), target.to(device) # [64, 1, 28, 28]\n",
        "        \n",
        "        # permute pixels\n",
        "        data = data.view(-1, 28*28)\n",
        "        data = data[:, perm]\n",
        "        data = data.view(-1, 1, 28, 28)\n",
        "\n",
        "        optimizer.zero_grad()\n",
        "        output = model(data)\n",
        "        loss = F.nll_loss(output, target)\n",
        "        loss.backward()\n",
        "        optimizer.step()\n",
        "        if batch_idx % 100 == 0:\n",
        "            print('Train Epoch: {} [{}/{} ({:.0f}%)]\\tLoss: {:.6f}'.format(\n",
        "                epoch, batch_idx * len(data), len(train_loader.dataset),\n",
        "                100. * batch_idx / len(train_loader), loss.item()))"
      ],
      "metadata": {
        "id": "HIFmNl47HJRl"
      },
      "execution_count": 12,
      "outputs": []
    },
    {
      "cell_type": "code",
      "source": [
        "accuracy_list = []\n",
        "loss_list = []\n",
        "\n",
        "def test(model, perm=torch.arange(0, 784).long()):\n",
        "    model.eval()\n",
        "    test_loss = 0\n",
        "    correct = 0\n",
        "    for data, target in test_loader:\n",
        "        # send to device\n",
        "        data, target = data.to(device), target.to(device)\n",
        "        \n",
        "        # permute pixels\n",
        "        data = data.view(-1, 28*28)\n",
        "        data = data[:, perm]\n",
        "        data = data.view(-1, 1, 28, 28)\n",
        "        output = model(data)\n",
        "        test_loss += F.nll_loss(output, target, reduction='sum').item() # sum up batch loss                                                               \n",
        "        pred = output.data.max(1, keepdim=True)[1] # get the index of the max log-probability                                                                 \n",
        "        correct += pred.eq(target.data.view_as(pred)).cpu().sum().item()\n",
        "\n",
        "    test_loss /= len(test_loader.dataset)\n",
        "    accuracy = 100. * correct / len(test_loader.dataset)\n",
        "    accuracy_list.append(accuracy)\n",
        "    loss_list.append(test_loss)\n",
        "    print('\\nTest set: Average loss: {:.4f}, Accuracy: {}/{} ({:.0f}%)\\n'.format(\n",
        "        test_loss, correct, len(test_loader.dataset),\n",
        "        accuracy))"
      ],
      "metadata": {
        "id": "JHW4KfoJHbhm"
      },
      "execution_count": 14,
      "outputs": []
    },
    {
      "cell_type": "code",
      "source": [],
      "metadata": {
        "id": "NmsW5UyxHi8a"
      },
      "execution_count": null,
      "outputs": []
    },
    {
      "cell_type": "code",
      "source": [
        "# Training settings \n",
        "n_features = 6 # number of feature maps\n",
        "\n",
        "model_cnn = CNN(input_size, n_features, output_size)\n",
        "print(model_cnn)\n",
        "model_cnn.to(device)\n",
        "optimizer = optim.SGD(model_cnn.parameters(), lr=0.01, momentum=0.5)\n",
        "print('Number of parameters: {}'.format(sum(p.numel() for p in model_cnn.parameters() if p.requires_grad)))\n",
        "\n",
        "for epoch in range(0, 1):\n",
        "    train(epoch, model_cnn)\n",
        "    test(model_cnn)"
      ],
      "metadata": {
        "colab": {
          "base_uri": "https://localhost:8080/"
        },
        "id": "MqR2rXuoHf22",
        "outputId": "1223be3d-8ef9-41b6-a8de-8840b24a25b4"
      },
      "execution_count": 15,
      "outputs": [
        {
          "output_type": "stream",
          "name": "stdout",
          "text": [
            "CNN(\n",
            "  (conv1): Conv2d(1, 6, kernel_size=(5, 5), stride=(1, 1))\n",
            "  (conv2): Conv2d(6, 6, kernel_size=(5, 5), stride=(1, 1))\n",
            "  (flatten): Flatten(start_dim=1, end_dim=-1)\n",
            "  (fc1): Linear(in_features=96, out_features=50, bias=True)\n",
            "  (fc2): Linear(in_features=50, out_features=10, bias=True)\n",
            ")\n",
            "Number of parameters: 6422\n",
            "Train Epoch: 0 [0/60000 (0%)]\tLoss: 2.319784\n",
            "Train Epoch: 0 [6400/60000 (11%)]\tLoss: 1.937669\n",
            "Train Epoch: 0 [12800/60000 (21%)]\tLoss: 0.495574\n",
            "Train Epoch: 0 [19200/60000 (32%)]\tLoss: 0.385006\n",
            "Train Epoch: 0 [25600/60000 (43%)]\tLoss: 0.278259\n",
            "Train Epoch: 0 [32000/60000 (53%)]\tLoss: 0.478384\n",
            "Train Epoch: 0 [38400/60000 (64%)]\tLoss: 0.333511\n",
            "Train Epoch: 0 [44800/60000 (75%)]\tLoss: 0.332681\n",
            "Train Epoch: 0 [51200/60000 (85%)]\tLoss: 0.101250\n",
            "Train Epoch: 0 [57600/60000 (96%)]\tLoss: 0.163586\n",
            "\n",
            "Test set: Average loss: 0.1705, Accuracy: 9464/10000 (95%)\n",
            "\n"
          ]
        }
      ]
    },
    {
      "cell_type": "code",
      "source": [
        "perm = torch.randperm(784)\n",
        "plt.figure(figsize=(16, 12))\n",
        "for i in range(10):\n",
        "    image, _ = train_loader.dataset[i]\n",
        "    # permute pixels\n",
        "    image_perm = image.view(-1, 28*28).clone()\n",
        "    image_perm = image_perm[:, perm]\n",
        "    image_perm = image_perm.view(-1, 1, 28, 28)\n",
        "    plt.subplot(4, 5, i + 1)\n",
        "    plt.imshow(image.squeeze().numpy())\n",
        "    plt.axis('off')\n",
        "    plt.subplot(4, 5, i + 11)\n",
        "    plt.imshow(image_perm.squeeze().numpy())\n",
        "    plt.axis('off')"
      ],
      "metadata": {
        "colab": {
          "base_uri": "https://localhost:8080/",
          "height": 961
        },
        "id": "EeFqL6O7HyMn",
        "outputId": "cb52046f-a799-4fda-846c-7d12fa8f3728"
      },
      "execution_count": 16,
      "outputs": [
        {
          "output_type": "display_data",
          "data": {
            "text/plain": [
              "<Figure size 1600x1200 with 20 Axes>"
            ],
            "image/png": "[encoded data removed]"
          },
          "metadata": {}
        }
      ]
    },
    {
      "cell_type": "code",
      "source": [
        "n_features = 6 # number of feature maps\n",
        "\n",
        "model_cnn = CNN(input_size, n_features, output_size)\n",
        "model_cnn.to(device)\n",
        "optimizer = optim.SGD(model_cnn.parameters(), lr=0.01, momentum=0.5)\n",
        "\n",
        "for epoch in range(0, 1):\n",
        "    train(epoch, model_cnn, perm)\n",
        "    test(model_cnn, perm)"
      ],
      "metadata": {
        "colab": {
          "base_uri": "https://localhost:8080/"
        },
        "id": "_glkG6X2Hy1u",
        "outputId": "a0baa71a-96e3-4fba-9694-5c3715ffb526"
      },
      "execution_count": 17,
      "outputs": [
        {
          "output_type": "stream",
          "name": "stdout",
          "text": [
            "Train Epoch: 0 [0/60000 (0%)]\tLoss: 2.307127\n",
            "Train Epoch: 0 [6400/60000 (11%)]\tLoss: 2.268160\n",
            "Train Epoch: 0 [12800/60000 (21%)]\tLoss: 2.155674\n",
            "Train Epoch: 0 [19200/60000 (32%)]\tLoss: 1.816870\n",
            "Train Epoch: 0 [25600/60000 (43%)]\tLoss: 1.457962\n",
            "Train Epoch: 0 [32000/60000 (53%)]\tLoss: 0.983304\n",
            "Train Epoch: 0 [38400/60000 (64%)]\tLoss: 0.862746\n",
            "Train Epoch: 0 [44800/60000 (75%)]\tLoss: 0.657556\n",
            "Train Epoch: 0 [51200/60000 (85%)]\tLoss: 0.538286\n",
            "Train Epoch: 0 [57600/60000 (96%)]\tLoss: 0.680036\n",
            "\n",
            "Test set: Average loss: 0.5957, Accuracy: 8106/10000 (81%)\n",
            "\n"
          ]
        }
      ]
    },
    {
      "cell_type": "code",
      "source": [],
      "metadata": {
        "id": "xdHvWd-HH6JJ"
      },
      "execution_count": null,
      "outputs": []
    }
  ]
}